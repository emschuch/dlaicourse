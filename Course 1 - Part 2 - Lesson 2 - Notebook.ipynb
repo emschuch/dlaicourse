{
 "cells": [
  {
   "cell_type": "markdown",
   "metadata": {
    "colab_type": "text",
    "id": "ZIAkIlfmCe1B"
   },
   "source": [
    "# The Hello World of Deep Learning with Neural Networks"
   ]
  },
  {
   "cell_type": "markdown",
   "metadata": {
    "colab_type": "text",
    "id": "fA93WUy1zzWf"
   },
   "source": [
    "Like every first app you should start with something super simple that shows the overall scaffolding for how your code works. \n",
    "\n",
    "In the case of creating neural networks, the sample I like to use is one where it learns the relationship between two numbers. So, for example, if you were writing code for a function like this, you already know the 'rules' — \n",
    "\n",
    "\n",
    "```\n",
    "float hw_function(float x){\n",
    "    float y = (2 * x) - 1;\n",
    "    return y;\n",
    "}\n",
    "```\n",
    "\n",
    "So how would you train a neural network to do the equivalent task? Using data! By feeding it with a set of Xs, and a set of Ys, it should be able to figure out the relationship between them. \n",
    "\n",
    "This is obviously a very different paradigm than what you might be used to, so let's step through it piece by piece.\n"
   ]
  },
  {
   "cell_type": "markdown",
   "metadata": {
    "colab_type": "text",
    "id": "DzbtdRcZDO9B"
   },
   "source": [
    "## Imports\n",
    "\n",
    "Let's start with our imports. Here we are importing TensorFlow and calling it tf for ease of use.\n",
    "\n",
    "We then import a library called numpy, which helps us to represent our data as lists easily and quickly.\n",
    "\n",
    "The framework for defining a neural network as a set of Sequential layers is called keras, so we import that too."
   ]
  },
  {
   "cell_type": "code",
   "execution_count": 1,
   "metadata": {
    "colab": {},
    "colab_type": "code",
    "id": "X9uIpOS2zx7k"
   },
   "outputs": [],
   "source": [
    "import tensorflow as tf\n",
    "import numpy as np\n",
    "from tensorflow import keras"
   ]
  },
  {
   "cell_type": "markdown",
   "metadata": {
    "colab_type": "text",
    "id": "wwJGmDrQ0EoB"
   },
   "source": [
    "## Define and Compile the Neural Network\n",
    "\n",
    "Next we will create the simplest possible neural network. It has 1 layer, and that layer has 1 neuron, and the input shape to it is just 1 value."
   ]
  },
  {
   "cell_type": "code",
   "execution_count": 2,
   "metadata": {
    "colab": {},
    "colab_type": "code",
    "id": "kQFAr_xo0M4T"
   },
   "outputs": [],
   "source": [
    "model = tf.keras.Sequential([keras.layers.Dense(units=1, input_shape=[1])])"
   ]
  },
  {
   "cell_type": "markdown",
   "metadata": {
    "colab_type": "text",
    "id": "KhjZjZ-c0Ok9"
   },
   "source": [
    "Now we compile our Neural Network. When we do so, we have to specify 2 functions, a loss and an optimizer.\n",
    "\n",
    "If you've seen lots of math for machine learning, here's where it's usually used, but in this case it's nicely encapsulated in functions for you. But what happens here — let's explain...\n",
    "\n",
    "We know that in our function, the relationship between the numbers is y=2x-1. \n",
    "\n",
    "When the computer is trying to 'learn' that, it makes a guess...maybe y=10x+10. The LOSS function measures the guessed answers against the known correct answers and measures how well or how badly it did.\n",
    "\n",
    "It then uses the OPTIMIZER function to make another guess. Based on how the loss function went, it will try to minimize the loss. At that point maybe it will come up with somehting like y=5x+5, which, while still pretty bad, is closer to the correct result (i.e. the loss is lower)\n",
    "\n",
    "It will repeat this for the number of EPOCHS which you will see shortly. But first, here's how we tell it to use 'MEAN SQUARED ERROR' for the loss and 'STOCHASTIC GRADIENT DESCENT' for the optimizer. You don't need to understand the math for these yet, but you can see that they work! :)\n",
    "\n",
    "Over time you will learn the different and appropriate loss and optimizer functions for different scenarios. \n"
   ]
  },
  {
   "cell_type": "code",
   "execution_count": 3,
   "metadata": {
    "colab": {},
    "colab_type": "code",
    "id": "m8YQN1H41L-Y"
   },
   "outputs": [],
   "source": [
    "model.compile(optimizer='sgd', loss='mean_squared_error')"
   ]
  },
  {
   "cell_type": "code",
   "execution_count": 4,
   "metadata": {},
   "outputs": [],
   "source": [
    "tf.keras.optimizers.RMSprop\n",
    "tf.losses."
   ]
  },
  {
   "cell_type": "markdown",
   "metadata": {
    "colab_type": "text",
    "id": "5QyOUhFw1OUX"
   },
   "source": [
    "## Providing the Data\n",
    "\n",
    "Next up we'll feed in some data. In this case we are taking 6 xs and 6ys. You can see that the relationship between these is that y=2x-1, so where x = -1, y=-3 etc. etc. \n",
    "\n",
    "A python library called 'Numpy' provides lots of array type data structures that are a defacto standard way of doing it. We declare that we want to use these by specifying the values as an np.array[]"
   ]
  },
  {
   "cell_type": "code",
   "execution_count": 5,
   "metadata": {
    "colab": {},
    "colab_type": "code",
    "id": "4Dxk4q-jzEy4"
   },
   "outputs": [],
   "source": [
    "xs = np.array([-1.0,  0.0, 1.0, 2.0, 3.0, 4.0], dtype=float)\n",
    "ys = np.array([-3.0, -1.0, 1.0, 3.0, 5.0, 7.0], dtype=float)"
   ]
  },
  {
   "cell_type": "markdown",
   "metadata": {
    "colab_type": "text",
    "id": "n_YcWRElnM_b"
   },
   "source": [
    "# Training the Neural Network"
   ]
  },
  {
   "cell_type": "markdown",
   "metadata": {
    "colab_type": "text",
    "id": "c-Jk4dG91dvD"
   },
   "source": [
    "The process of training the neural network, where it 'learns' the relationship between the Xs and Ys is in the **model.fit**  call. This is where it will go through the loop we spoke about above, making a guess, measuring how good or bad it is (aka the loss), using the opimizer to make another guess etc. It will do it for the number of epochs you specify. When you run this code, you'll see the loss on the right hand side."
   ]
  },
  {
   "cell_type": "code",
   "execution_count": 6,
   "metadata": {
    "colab": {},
    "colab_type": "code",
    "id": "lpRrl7WK10Pq",
    "scrolled": false
   },
   "outputs": [
    {
     "name": "stdout",
     "output_type": "stream",
     "text": [
      "Train on 6 samples\n",
      "Epoch 1/100\n",
      "6/6 [==============================] - 0s 61ms/sample - loss: 3.0796\n",
      "Epoch 2/100\n",
      "6/6 [==============================] - 0s 191us/sample - loss: 2.5795\n",
      "Epoch 3/100\n",
      "6/6 [==============================] - 0s 217us/sample - loss: 2.1829\n",
      "Epoch 4/100\n",
      "6/6 [==============================] - 0s 188us/sample - loss: 1.8677\n",
      "Epoch 5/100\n",
      "6/6 [==============================] - 0s 186us/sample - loss: 1.6166\n",
      "Epoch 6/100\n",
      "6/6 [==============================] - 0s 253us/sample - loss: 1.4161\n",
      "Epoch 7/100\n",
      "6/6 [==============================] - 0s 241us/sample - loss: 1.2553\n",
      "Epoch 8/100\n",
      "6/6 [==============================] - 0s 223us/sample - loss: 1.1260\n",
      "Epoch 9/100\n",
      "6/6 [==============================] - 0s 210us/sample - loss: 1.0213\n",
      "Epoch 10/100\n",
      "6/6 [==============================] - 0s 281us/sample - loss: 0.9363\n",
      "Epoch 11/100\n",
      "6/6 [==============================] - 0s 245us/sample - loss: 0.8666\n",
      "Epoch 12/100\n",
      "6/6 [==============================] - 0s 221us/sample - loss: 0.8091\n",
      "Epoch 13/100\n",
      "6/6 [==============================] - 0s 247us/sample - loss: 0.7612\n",
      "Epoch 14/100\n",
      "6/6 [==============================] - 0s 195us/sample - loss: 0.7210\n",
      "Epoch 15/100\n",
      "6/6 [==============================] - 0s 194us/sample - loss: 0.6869\n",
      "Epoch 16/100\n",
      "6/6 [==============================] - 0s 192us/sample - loss: 0.6576\n",
      "Epoch 17/100\n",
      "6/6 [==============================] - 0s 198us/sample - loss: 0.6321\n",
      "Epoch 18/100\n",
      "6/6 [==============================] - 0s 199us/sample - loss: 0.6097\n",
      "Epoch 19/100\n",
      "6/6 [==============================] - 0s 206us/sample - loss: 0.5898\n",
      "Epoch 20/100\n",
      "6/6 [==============================] - 0s 196us/sample - loss: 0.5719\n",
      "Epoch 21/100\n",
      "6/6 [==============================] - 0s 243us/sample - loss: 0.5555\n",
      "Epoch 22/100\n",
      "6/6 [==============================] - 0s 210us/sample - loss: 0.5405\n",
      "Epoch 23/100\n",
      "6/6 [==============================] - 0s 185us/sample - loss: 0.5266\n",
      "Epoch 24/100\n",
      "6/6 [==============================] - 0s 169us/sample - loss: 0.5135\n",
      "Epoch 25/100\n",
      "6/6 [==============================] - 0s 179us/sample - loss: 0.5012\n",
      "Epoch 26/100\n",
      "6/6 [==============================] - 0s 168us/sample - loss: 0.4895\n",
      "Epoch 27/100\n",
      "6/6 [==============================] - 0s 200us/sample - loss: 0.4784\n",
      "Epoch 28/100\n",
      "6/6 [==============================] - 0s 269us/sample - loss: 0.4677\n",
      "Epoch 29/100\n",
      "6/6 [==============================] - 0s 226us/sample - loss: 0.4574\n",
      "Epoch 30/100\n",
      "6/6 [==============================] - 0s 284us/sample - loss: 0.4475\n",
      "Epoch 31/100\n",
      "6/6 [==============================] - 0s 225us/sample - loss: 0.4379\n",
      "Epoch 32/100\n",
      "6/6 [==============================] - 0s 210us/sample - loss: 0.4286\n",
      "Epoch 33/100\n",
      "6/6 [==============================] - 0s 227us/sample - loss: 0.4195\n",
      "Epoch 34/100\n",
      "6/6 [==============================] - 0s 227us/sample - loss: 0.4107\n",
      "Epoch 35/100\n",
      "6/6 [==============================] - 0s 252us/sample - loss: 0.4021\n",
      "Epoch 36/100\n",
      "6/6 [==============================] - 0s 201us/sample - loss: 0.3937\n",
      "Epoch 37/100\n",
      "6/6 [==============================] - 0s 245us/sample - loss: 0.3855\n",
      "Epoch 38/100\n",
      "6/6 [==============================] - 0s 280us/sample - loss: 0.3775\n",
      "Epoch 39/100\n",
      "6/6 [==============================] - 0s 420us/sample - loss: 0.3697\n",
      "Epoch 40/100\n",
      "6/6 [==============================] - 0s 260us/sample - loss: 0.3621\n",
      "Epoch 41/100\n",
      "6/6 [==============================] - 0s 265us/sample - loss: 0.3546\n",
      "Epoch 42/100\n",
      "6/6 [==============================] - 0s 308us/sample - loss: 0.3473\n",
      "Epoch 43/100\n",
      "6/6 [==============================] - 0s 296us/sample - loss: 0.3401\n",
      "Epoch 44/100\n",
      "6/6 [==============================] - 0s 248us/sample - loss: 0.3331\n",
      "Epoch 45/100\n",
      "6/6 [==============================] - 0s 349us/sample - loss: 0.3263\n",
      "Epoch 46/100\n",
      "6/6 [==============================] - 0s 376us/sample - loss: 0.3196\n",
      "Epoch 47/100\n",
      "6/6 [==============================] - 0s 235us/sample - loss: 0.3130\n",
      "Epoch 48/100\n",
      "6/6 [==============================] - 0s 232us/sample - loss: 0.3066\n",
      "Epoch 49/100\n",
      "6/6 [==============================] - 0s 220us/sample - loss: 0.3002\n",
      "Epoch 50/100\n",
      "6/6 [==============================] - 0s 184us/sample - loss: 0.2941\n",
      "Epoch 51/100\n",
      "6/6 [==============================] - 0s 219us/sample - loss: 0.2880\n",
      "Epoch 52/100\n",
      "6/6 [==============================] - 0s 235us/sample - loss: 0.2821\n",
      "Epoch 53/100\n",
      "6/6 [==============================] - 0s 326us/sample - loss: 0.2763\n",
      "Epoch 54/100\n",
      "6/6 [==============================] - 0s 220us/sample - loss: 0.2706\n",
      "Epoch 55/100\n",
      "6/6 [==============================] - 0s 265us/sample - loss: 0.2651\n",
      "Epoch 56/100\n",
      "6/6 [==============================] - 0s 242us/sample - loss: 0.2596\n",
      "Epoch 57/100\n",
      "6/6 [==============================] - 0s 301us/sample - loss: 0.2543\n",
      "Epoch 58/100\n",
      "6/6 [==============================] - 0s 239us/sample - loss: 0.2491\n",
      "Epoch 59/100\n",
      "6/6 [==============================] - 0s 198us/sample - loss: 0.2440\n",
      "Epoch 60/100\n",
      "6/6 [==============================] - 0s 187us/sample - loss: 0.2389\n",
      "Epoch 61/100\n",
      "6/6 [==============================] - 0s 279us/sample - loss: 0.2340\n",
      "Epoch 62/100\n",
      "6/6 [==============================] - 0s 282us/sample - loss: 0.2292\n",
      "Epoch 63/100\n",
      "6/6 [==============================] - 0s 222us/sample - loss: 0.2245\n",
      "Epoch 64/100\n",
      "6/6 [==============================] - 0s 214us/sample - loss: 0.2199\n",
      "Epoch 65/100\n",
      "6/6 [==============================] - 0s 293us/sample - loss: 0.2154\n",
      "Epoch 66/100\n",
      "6/6 [==============================] - 0s 211us/sample - loss: 0.2110\n",
      "Epoch 67/100\n",
      "6/6 [==============================] - 0s 305us/sample - loss: 0.2066\n",
      "Epoch 68/100\n",
      "6/6 [==============================] - 0s 324us/sample - loss: 0.2024\n",
      "Epoch 69/100\n",
      "6/6 [==============================] - 0s 340us/sample - loss: 0.1982\n",
      "Epoch 70/100\n",
      "6/6 [==============================] - 0s 277us/sample - loss: 0.1942\n",
      "Epoch 71/100\n",
      "6/6 [==============================] - 0s 273us/sample - loss: 0.1902\n",
      "Epoch 72/100\n",
      "6/6 [==============================] - 0s 223us/sample - loss: 0.1863\n",
      "Epoch 73/100\n",
      "6/6 [==============================] - 0s 184us/sample - loss: 0.1824\n",
      "Epoch 74/100\n",
      "6/6 [==============================] - 0s 200us/sample - loss: 0.1787\n",
      "Epoch 75/100\n",
      "6/6 [==============================] - 0s 243us/sample - loss: 0.1750\n",
      "Epoch 76/100\n",
      "6/6 [==============================] - 0s 285us/sample - loss: 0.1714\n",
      "Epoch 77/100\n",
      "6/6 [==============================] - 0s 287us/sample - loss: 0.1679\n",
      "Epoch 78/100\n",
      "6/6 [==============================] - 0s 335us/sample - loss: 0.1645\n",
      "Epoch 79/100\n",
      "6/6 [==============================] - 0s 273us/sample - loss: 0.1611\n",
      "Epoch 80/100\n",
      "6/6 [==============================] - 0s 274us/sample - loss: 0.1578\n",
      "Epoch 81/100\n",
      "6/6 [==============================] - 0s 257us/sample - loss: 0.1545\n",
      "Epoch 82/100\n",
      "6/6 [==============================] - 0s 239us/sample - loss: 0.1514\n",
      "Epoch 83/100\n",
      "6/6 [==============================] - 0s 237us/sample - loss: 0.1482\n",
      "Epoch 84/100\n",
      "6/6 [==============================] - 0s 237us/sample - loss: 0.1452\n",
      "Epoch 85/100\n",
      "6/6 [==============================] - 0s 273us/sample - loss: 0.1422\n",
      "Epoch 86/100\n",
      "6/6 [==============================] - 0s 247us/sample - loss: 0.1393\n",
      "Epoch 87/100\n",
      "6/6 [==============================] - 0s 280us/sample - loss: 0.1364\n",
      "Epoch 88/100\n",
      "6/6 [==============================] - 0s 269us/sample - loss: 0.1336\n",
      "Epoch 89/100\n",
      "6/6 [==============================] - 0s 249us/sample - loss: 0.1309\n",
      "Epoch 90/100\n",
      "6/6 [==============================] - 0s 333us/sample - loss: 0.1282\n",
      "Epoch 91/100\n",
      "6/6 [==============================] - 0s 263us/sample - loss: 0.1256\n",
      "Epoch 92/100\n",
      "6/6 [==============================] - 0s 223us/sample - loss: 0.1230\n",
      "Epoch 93/100\n",
      "6/6 [==============================] - 0s 265us/sample - loss: 0.1205\n",
      "Epoch 94/100\n",
      "6/6 [==============================] - 0s 257us/sample - loss: 0.1180\n",
      "Epoch 95/100\n",
      "6/6 [==============================] - 0s 200us/sample - loss: 0.1156\n",
      "Epoch 96/100\n",
      "6/6 [==============================] - 0s 255us/sample - loss: 0.1132\n",
      "Epoch 97/100\n",
      "6/6 [==============================] - 0s 210us/sample - loss: 0.1109\n",
      "Epoch 98/100\n",
      "6/6 [==============================] - 0s 238us/sample - loss: 0.1086\n",
      "Epoch 99/100\n",
      "6/6 [==============================] - 0s 413us/sample - loss: 0.1064\n"
     ]
    },
    {
     "name": "stdout",
     "output_type": "stream",
     "text": [
      "Epoch 100/100\n",
      "6/6 [==============================] - 0s 342us/sample - loss: 0.1042\n"
     ]
    },
    {
     "data": {
      "text/plain": [
       "<tensorflow.python.keras.callbacks.History at 0x129c11358>"
      ]
     },
     "execution_count": 6,
     "metadata": {},
     "output_type": "execute_result"
    }
   ],
   "source": [
    "model.fit(xs, ys, epochs=100)"
   ]
  },
  {
   "cell_type": "markdown",
   "metadata": {
    "colab_type": "text",
    "id": "kaFIr71H2OZ-"
   },
   "source": [
    "Ok, now you have a model that has been trained to learn the relationshop between X and Y. You can use the **model.predict** method to have it figure out the Y for a previously unknown X. So, for example, if X = 10, what do you think Y will be? Take a guess before you run this code:"
   ]
  },
  {
   "cell_type": "code",
   "execution_count": 7,
   "metadata": {
    "colab": {},
    "colab_type": "code",
    "id": "oxNzL4lS2Gui"
   },
   "outputs": [
    {
     "name": "stdout",
     "output_type": "stream",
     "text": [
      "[[18.058289]]\n"
     ]
    }
   ],
   "source": [
    "print(model.predict([10.0]))"
   ]
  },
  {
   "cell_type": "markdown",
   "metadata": {
    "colab_type": "text",
    "id": "btF2CSFH2iEX"
   },
   "source": [
    "You might have thought 19, right? But it ended up being a little under. Why do you think that is? \n",
    "\n",
    "Remember that neural networks deal with probabilities, so given the data that we fed the NN with, it calculated that there is a very high probability that the relationship between X and Y is Y=2X-1, but with only 6 data points we can't know for sure. As a result, the result for 10 is very close to 19, but not necessarily 19. \n",
    "\n",
    "As you work with neural networks, you'll see this pattern recurring. You will almost always deal with probabilities, not certainties, and will do a little bit of coding to figure out what the result is based on the probabilities, particularly when it comes to classification.\n"
   ]
  }
 ],
 "metadata": {
  "colab": {
   "name": "Colab1-for-deeplearn.ipynb",
   "provenance": [],
   "toc_visible": true,
   "version": "0.3.2"
  },
  "kernelspec": {
   "display_name": "Python 3",
   "language": "python",
   "name": "python3"
  },
  "language_info": {
   "codemirror_mode": {
    "name": "ipython",
    "version": 3
   },
   "file_extension": ".py",
   "mimetype": "text/x-python",
   "name": "python",
   "nbconvert_exporter": "python",
   "pygments_lexer": "ipython3",
   "version": "3.7.4"
  }
 },
 "nbformat": 4,
 "nbformat_minor": 1
}
